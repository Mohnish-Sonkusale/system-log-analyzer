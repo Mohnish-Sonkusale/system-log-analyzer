{
 "cells": [
  {
   "cell_type": "code",
   "execution_count": 4,
   "id": "d353fe0b",
   "metadata": {},
   "outputs": [],
   "source": [
    "import sys\n",
    "import os\n",
    "import random\n",
    "import pandas as pd\n",
    "from config.log_templates import non_issue_templates, issue_templates\n",
    "from preprocessing.preprocess import preprocess_log_line\n"
   ]
  },
  {
   "cell_type": "code",
   "execution_count": 7,
   "id": "06efefdb-5527-4982-9a97-c84a88482f6b",
   "metadata": {},
   "outputs": [
    {
     "name": "stdout",
     "output_type": "stream",
     "text": [
      "✅ dummy_system_logs.csv has been created.\n"
     ]
    }
   ],
   "source": [
    "# # sys.path.append(os.path.abspath(\"\"))\n",
    "# sys.path.append(os.path.abspath(\"../config\"))\n",
    "\n",
    "# Generate log lines\n",
    "def generate_balanced_logs(num_per_class=250):\n",
    "    logs = []\n",
    "    for _ in range(num_per_class):\n",
    "        logs.append((random.choice(non_issue_templates), 0))\n",
    "        logs.append((random.choice(issue_templates), 1))\n",
    "    random.shuffle(logs)\n",
    "    return logs\n",
    "\n",
    "# Generate and save as CSV\n",
    "logs = generate_balanced_logs(250)\n",
    "df_logs = pd.DataFrame(logs, columns=[\"log_line\", \"label\"])\n",
    "df_logs.to_csv(\"data/dummy_system_logs.csv\", index=False)\n",
    "\n",
    "print(\"✅ dummy_system_logs.csv has been created.\")\n"
   ]
  },
  {
   "cell_type": "code",
   "execution_count": 13,
   "id": "c80e2017",
   "metadata": {},
   "outputs": [
    {
     "data": {
      "text/html": [
       "<div>\n",
       "<style scoped>\n",
       "    .dataframe tbody tr th:only-of-type {\n",
       "        vertical-align: middle;\n",
       "    }\n",
       "\n",
       "    .dataframe tbody tr th {\n",
       "        vertical-align: top;\n",
       "    }\n",
       "\n",
       "    .dataframe thead th {\n",
       "        text-align: right;\n",
       "    }\n",
       "</style>\n",
       "<table border=\"1\" class=\"dataframe\">\n",
       "  <thead>\n",
       "    <tr style=\"text-align: right;\">\n",
       "      <th></th>\n",
       "      <th>log_line</th>\n",
       "      <th>label</th>\n",
       "    </tr>\n",
       "  </thead>\n",
       "  <tbody>\n",
       "    <tr>\n",
       "      <th>0</th>\n",
       "      <td>WARNING: CPU temperature high</td>\n",
       "      <td>1</td>\n",
       "    </tr>\n",
       "    <tr>\n",
       "      <th>1</th>\n",
       "      <td>Drive mounted at /mnt/data</td>\n",
       "      <td>0</td>\n",
       "    </tr>\n",
       "    <tr>\n",
       "      <th>2</th>\n",
       "      <td>Power failure detected, system shutting down</td>\n",
       "      <td>1</td>\n",
       "    </tr>\n",
       "    <tr>\n",
       "      <th>3</th>\n",
       "      <td>CRITICAL ERROR: Kernel panic occurred</td>\n",
       "      <td>1</td>\n",
       "    </tr>\n",
       "    <tr>\n",
       "      <th>4</th>\n",
       "      <td>WiFi connection stable</td>\n",
       "      <td>0</td>\n",
       "    </tr>\n",
       "    <tr>\n",
       "      <th>...</th>\n",
       "      <td>...</td>\n",
       "      <td>...</td>\n",
       "    </tr>\n",
       "    <tr>\n",
       "      <th>495</th>\n",
       "      <td>CRITICAL: Memory leak detected</td>\n",
       "      <td>1</td>\n",
       "    </tr>\n",
       "    <tr>\n",
       "      <th>496</th>\n",
       "      <td>Disk check complete, no errors found</td>\n",
       "      <td>0</td>\n",
       "    </tr>\n",
       "    <tr>\n",
       "      <th>497</th>\n",
       "      <td>Disk check complete, no errors found</td>\n",
       "      <td>0</td>\n",
       "    </tr>\n",
       "    <tr>\n",
       "      <th>498</th>\n",
       "      <td>System boot completed successfully</td>\n",
       "      <td>0</td>\n",
       "    </tr>\n",
       "    <tr>\n",
       "      <th>499</th>\n",
       "      <td>ERROR: Failed to mount root partition</td>\n",
       "      <td>1</td>\n",
       "    </tr>\n",
       "  </tbody>\n",
       "</table>\n",
       "<p>500 rows × 2 columns</p>\n",
       "</div>"
      ],
      "text/plain": [
       "                                         log_line  label\n",
       "0                   WARNING: CPU temperature high      1\n",
       "1                      Drive mounted at /mnt/data      0\n",
       "2    Power failure detected, system shutting down      1\n",
       "3           CRITICAL ERROR: Kernel panic occurred      1\n",
       "4                          WiFi connection stable      0\n",
       "..                                            ...    ...\n",
       "495                CRITICAL: Memory leak detected      1\n",
       "496          Disk check complete, no errors found      0\n",
       "497          Disk check complete, no errors found      0\n",
       "498            System boot completed successfully      0\n",
       "499         ERROR: Failed to mount root partition      1\n",
       "\n",
       "[500 rows x 2 columns]"
      ]
     },
     "execution_count": 13,
     "metadata": {},
     "output_type": "execute_result"
    }
   ],
   "source": [
    "df = pd.read_csv(\"data/dummy_system_logs.csv\")\n",
    "df"
   ]
  },
  {
   "cell_type": "code",
   "execution_count": 6,
   "id": "7ef472e6",
   "metadata": {},
   "outputs": [
    {
     "name": "stdout",
     "output_type": "stream",
     "text": [
      "Raw: 2025-07-01  WARNING: [battery.module] Low battery, 5% remaining!\n",
      "Clean: warning low battery 5 remaining\n"
     ]
    }
   ],
   "source": [
    "# Example usage of preprocessing:\n",
    "raw_log = \"2025-07-01  WARNING: [battery.module] Low battery, 5% remaining!\"\n",
    "clean_log = preprocess_log_line(raw_log)\n",
    "print(f\"Raw: {raw_log}\")\n",
    "print(f\"Clean: {clean_log}\")"
   ]
  },
  {
   "cell_type": "code",
   "execution_count": null,
   "id": "1eadc955",
   "metadata": {},
   "outputs": [],
   "source": [
    "def predict_on_log_file(filepath, model, vectorizer):\n",
    "    with open(filepath, \"r\") as file:\n",
    "        for line in file:\n",
    "            clean_line = preprocess_log_line(line)\n",
    "            X = vectorizer.transform([clean_line])\n",
    "            pred = model.predict(X)\n",
    "            label = \"Issue\" if pred[0] == 1 else \"No Issue\"\n",
    "            print(f\"{label}: {line.strip()}\")\n"
   ]
  }
 ],
 "metadata": {
  "kernelspec": {
   "display_name": "Python 3",
   "language": "python",
   "name": "python3"
  },
  "language_info": {
   "codemirror_mode": {
    "name": "ipython",
    "version": 3
   },
   "file_extension": ".py",
   "mimetype": "text/x-python",
   "name": "python",
   "nbconvert_exporter": "python",
   "pygments_lexer": "ipython3",
   "version": "3.13.3"
  }
 },
 "nbformat": 4,
 "nbformat_minor": 5
}
